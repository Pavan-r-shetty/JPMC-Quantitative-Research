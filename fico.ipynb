{
 "cells": [
  {
   "cell_type": "code",
   "execution_count": 1,
   "metadata": {},
   "outputs": [],
   "source": [
    "import pandas as pd\n",
    "from sklearn.cluster import KMeans\n",
    "import matplotlib.pyplot as plt\n",
    "import numpy as np"
   ]
  },
  {
   "cell_type": "code",
   "execution_count": 2,
   "metadata": {},
   "outputs": [],
   "source": [
    "def optimized_quantize_fico_mse(data, fico_column, num_buckets=10):\n",
    "    \"\"\"\n",
    "    Optimized quantization of FICO scores into buckets using Mean Squared Error (MSE).\n",
    "    \n",
    "    Parameters:\n",
    "        data (pd.DataFrame): Dataset containing FICO scores.\n",
    "        fico_column (str): Column name for FICO scores.\n",
    "        num_buckets (int): Number of buckets to create.\n",
    "        \n",
    "    Returns:\n",
    "        list: Optimized bucket boundaries.\n",
    "        pd.DataFrame: Dataset with bucket assignments.\n",
    "    \"\"\"\n",
    "    # Sort the data by FICO score\n",
    "    data_sorted = data.sort_values(by=fico_column).reset_index(drop=True)\n",
    "    fico_scores = data_sorted[fico_column].values\n",
    "    n = len(fico_scores)\n",
    "\n",
    "    # Compute cumulative sums for FICO scores and squared values\n",
    "    cum_sum = np.cumsum(fico_scores)\n",
    "    cum_sq_sum = np.cumsum(fico_scores**2)\n",
    "\n",
    "    # Helper function to compute MSE for a range [start, end]\n",
    "    def get_mse(start, end):\n",
    "        total = cum_sum[end] - (cum_sum[start - 1] if start > 0 else 0)\n",
    "        total_sq = cum_sq_sum[end] - (cum_sq_sum[start - 1] if start > 0 else 0)\n",
    "        count = end - start + 1\n",
    "        mean = total / count\n",
    "        mse = total_sq - 2 * mean * total + count * mean**2\n",
    "        return mse\n",
    "\n",
    "    # Initialize DP arrays\n",
    "    dp = np.zeros((num_buckets, n))\n",
    "    splits = np.zeros((num_buckets, n), dtype=int)\n",
    "\n",
    "    # Base case: single bucket\n",
    "    for i in range(n):\n",
    "        dp[0][i] = get_mse(0, i)\n",
    "\n",
    "    # Recursive case: multiple buckets\n",
    "    for k in range(1, num_buckets):\n",
    "        for i in range(k, n):\n",
    "            min_mse, min_split = float('inf'), -1\n",
    "            for j in range(k - 1, i):\n",
    "                mse = dp[k - 1][j] + get_mse(j + 1, i)\n",
    "                if mse < min_mse:\n",
    "                    min_mse, min_split = mse, j\n",
    "            dp[k][i] = min_mse\n",
    "            splits[k][i] = min_split\n",
    "\n",
    "    # Backtrack to find the bucket boundaries\n",
    "    boundaries = []\n",
    "    end = n - 1\n",
    "    for k in range(num_buckets - 1, -1, -1):\n",
    "        boundaries.append(fico_scores[splits[k][end] + 1])\n",
    "        end = splits[k][end]\n",
    "    boundaries = sorted(set(boundaries))\n",
    "\n",
    "    # Assign buckets to data\n",
    "    data_sorted['bucket'] = np.digitize(data_sorted[fico_column], boundaries, right=False)\n",
    "\n",
    "    return boundaries, data_sorted\n",
    "\n"
   ]
  },
  {
   "cell_type": "code",
   "execution_count": 3,
   "metadata": {},
   "outputs": [
    {
     "name": "stdout",
     "output_type": "stream",
     "text": [
      "Bucket Boundaries (K-Means): [409, 553, 608, 655, 707]\n",
      "\n",
      "Sample Data with Buckets:\n",
      "   customer_id  credit_lines_outstanding  loan_amt_outstanding  \\\n",
      "0      7264776                         1           4457.914800   \n",
      "1      6901345                         3           5281.352243   \n",
      "2      2585781                         4           6734.984475   \n",
      "3      1252008                         5           5176.915602   \n",
      "4      1337395                         5           4271.314690   \n",
      "\n",
      "   total_debt_outstanding       income  years_employed  fico_score  default  \\\n",
      "0             12233.49501  98913.32028               3         408        0   \n",
      "1             16411.51801  79905.09892               1         409        1   \n",
      "2             26384.58439  97668.03091               2         418        1   \n",
      "3             22990.26543  82417.59227               2         425        1   \n",
      "4             22756.28103  83475.30929               4         438        1   \n",
      "\n",
      "   bucket  \n",
      "0       0  \n",
      "1       1  \n",
      "2       1  \n",
      "3       1  \n",
      "4       1  \n"
     ]
    }
   ],
   "source": [
    "# Load the dataset\n",
    "file_path = 'data/Task 3 and 4_Loan_Data.csv'\n",
    "loan_data = pd.read_csv(file_path)\n",
    "\n",
    "# Apply K-Means quantization for FICO scores\n",
    "fico_boundaries_kmeans, fico_buckets_kmeans = optimized_quantize_fico_mse(\n",
    "    loan_data, fico_column=\"fico_score\", num_buckets=5\n",
    ")\n",
    "\n",
    "# Print the results\n",
    "print(\"Bucket Boundaries (K-Means):\", fico_boundaries_kmeans)\n",
    "print(\"\\nSample Data with Buckets:\")\n",
    "print(fico_buckets_kmeans.head())\n"
   ]
  },
  {
   "cell_type": "code",
   "execution_count": null,
   "metadata": {},
   "outputs": [],
   "source": []
  },
  {
   "cell_type": "code",
   "execution_count": null,
   "metadata": {},
   "outputs": [],
   "source": []
  },
  {
   "cell_type": "code",
   "execution_count": null,
   "metadata": {},
   "outputs": [],
   "source": []
  }
 ],
 "metadata": {
  "kernelspec": {
   "display_name": "vulcan",
   "language": "python",
   "name": "python3"
  },
  "language_info": {
   "codemirror_mode": {
    "name": "ipython",
    "version": 3
   },
   "file_extension": ".py",
   "mimetype": "text/x-python",
   "name": "python",
   "nbconvert_exporter": "python",
   "pygments_lexer": "ipython3",
   "version": "3.11.11"
  }
 },
 "nbformat": 4,
 "nbformat_minor": 2
}
